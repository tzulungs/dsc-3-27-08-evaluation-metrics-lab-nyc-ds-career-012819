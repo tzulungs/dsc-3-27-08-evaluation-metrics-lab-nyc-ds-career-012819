{
 "cells": [
  {
   "cell_type": "markdown",
   "metadata": {},
   "source": [
    "# Evaluation Metrics - Lab\n",
    "\n",
    "## Introduction\n",
    "\n",
    "In this lab, we'll calculate various evaluation metrics to compare to evaluate classifier performance!\n",
    "\n",
    "## Objectives\n",
    "\n",
    "You will be able to:\n",
    "\n",
    "* Read and interpret results using a Confusion Matrix\n",
    "* Calculate and interpret precision and recall and evaluation metrics for classification\n",
    "* Calculate and interpret accuracy and f1-score as evaluation metrics for classification\n",
    "\n",
    "## Getting Started\n",
    "\n",
    "For this lab, you're going to read in a DataFrame containing various predictions from different models, as well as the ground-truth labels for the dataset that each model was making predictions on. You'll also write various functions to help you easily calculate important evaluation metrics such as **_Precision_**, **_Recall_**, **_Accuracy_**, and **_F1-Score_**.\n",
    "\n",
    "Let's start by reading in our dataset. You'll find the dataset stored in `'model_performance.csv'`. In the cell below, use pandas to read this dataset into a DataFrame, and inspect the head."
   ]
  },
  {
   "cell_type": "code",
   "execution_count": 4,
   "metadata": {},
   "outputs": [
    {
     "data": {
      "text/html": [
       "<div>\n",
       "<style scoped>\n",
       "    .dataframe tbody tr th:only-of-type {\n",
       "        vertical-align: middle;\n",
       "    }\n",
       "\n",
       "    .dataframe tbody tr th {\n",
       "        vertical-align: top;\n",
       "    }\n",
       "\n",
       "    .dataframe thead th {\n",
       "        text-align: right;\n",
       "    }\n",
       "</style>\n",
       "<table border=\"1\" class=\"dataframe\">\n",
       "  <thead>\n",
       "    <tr style=\"text-align: right;\">\n",
       "      <th></th>\n",
       "      <th>Model 1 Predictions</th>\n",
       "      <th>Model 2 Predictions</th>\n",
       "      <th>Model 3 Predictions</th>\n",
       "      <th>Labels</th>\n",
       "    </tr>\n",
       "  </thead>\n",
       "  <tbody>\n",
       "    <tr>\n",
       "      <th>0</th>\n",
       "      <td>1</td>\n",
       "      <td>1</td>\n",
       "      <td>1</td>\n",
       "      <td>1</td>\n",
       "    </tr>\n",
       "    <tr>\n",
       "      <th>1</th>\n",
       "      <td>1</td>\n",
       "      <td>1</td>\n",
       "      <td>1</td>\n",
       "      <td>1</td>\n",
       "    </tr>\n",
       "    <tr>\n",
       "      <th>2</th>\n",
       "      <td>1</td>\n",
       "      <td>1</td>\n",
       "      <td>1</td>\n",
       "      <td>1</td>\n",
       "    </tr>\n",
       "    <tr>\n",
       "      <th>3</th>\n",
       "      <td>0</td>\n",
       "      <td>1</td>\n",
       "      <td>1</td>\n",
       "      <td>0</td>\n",
       "    </tr>\n",
       "    <tr>\n",
       "      <th>4</th>\n",
       "      <td>0</td>\n",
       "      <td>0</td>\n",
       "      <td>1</td>\n",
       "      <td>1</td>\n",
       "    </tr>\n",
       "  </tbody>\n",
       "</table>\n",
       "</div>"
      ],
      "text/plain": [
       "   Model 1 Predictions  Model 2 Predictions  Model 3 Predictions  Labels\n",
       "0                    1                    1                    1       1\n",
       "1                    1                    1                    1       1\n",
       "2                    1                    1                    1       1\n",
       "3                    0                    1                    1       0\n",
       "4                    0                    0                    1       1"
      ]
     },
     "execution_count": 4,
     "metadata": {},
     "output_type": "execute_result"
    }
   ],
   "source": [
    "import pandas as pd\n",
    "\n",
    "data=pd.read_csv('model_performance.csv')\n",
    "\n",
    "data.head()"
   ]
  },
  {
   "cell_type": "markdown",
   "metadata": {},
   "source": [
    "The dataset consists of model predictions from 3 different models, as well as the corresponding labels for row in the dataset. \n",
    "\n",
    "In the cell below, store each of the following predictions and labels in separate variables."
   ]
  },
  {
   "cell_type": "code",
   "execution_count": 5,
   "metadata": {},
   "outputs": [],
   "source": [
    "model1_preds = data['Model 1 Predictions']\n",
    "model2_preds = data['Model 2 Predictions']\n",
    "model3_preds = data['Model 3 Predictions']\n",
    "labels = data['Labels']"
   ]
  },
  {
   "cell_type": "markdown",
   "metadata": {},
   "source": [
    "Good! Now, let's get started by building a confusion matrix!\n",
    "\n",
    "## Confusion Matrix\n",
    "\n",
    "In the cell below, complete the `conf_matrix` function.  This function should:\n",
    "\n",
    "* Take in 2 arguments: \n",
    "    * `y_true`, an array of labels\n",
    "    * `y_pred`, an array of model predictions\n",
    "* Return a Confusion Matrix in the form of a dictionary, where the keys are `'TP', 'TN', 'FP', 'FN'`. "
   ]
  },
  {
   "cell_type": "code",
   "execution_count": 6,
   "metadata": {},
   "outputs": [],
   "source": [
    "def conf_matrix(y_true, y_pred):\n",
    "    cf={'TP':0, 'TN':0, 'FP':0, 'FN':0}\n",
    "    for index, value in enumerate(y_pred):\n",
    "        if y_true[index]:\n",
    "            if y_true[index]==value:\n",
    "                cf['TP']+=1\n",
    "            else:\n",
    "                cf['FN']+=1\n",
    "        else:\n",
    "            if y_true[index]==value:\n",
    "                cf['TN']+=1\n",
    "            else:\n",
    "                cf['FP']+=1\n",
    "    return cf"
   ]
  },
  {
   "cell_type": "markdown",
   "metadata": {},
   "source": [
    "Great! Now, let's double check that our function was created correctly by creating confusion matrices for each of our 3 models. Expected outputs have been provided for you to check your results against."
   ]
  },
  {
   "cell_type": "code",
   "execution_count": 7,
   "metadata": {},
   "outputs": [
    {
     "data": {
      "text/plain": [
       "{'TP': 6168, 'TN': 2654, 'FP': 346, 'FN': 832}"
      ]
     },
     "execution_count": 7,
     "metadata": {},
     "output_type": "execute_result"
    }
   ],
   "source": [
    "# Model 1 Expected Output: {'TP': 6168, 'TN': 2654, 'FP': 346, 'FN': 832}\n",
    "model1_confusion_matrix = conf_matrix(labels, model1_preds)\n",
    "model1_confusion_matrix"
   ]
  },
  {
   "cell_type": "code",
   "execution_count": 8,
   "metadata": {},
   "outputs": [
    {
     "data": {
      "text/plain": [
       "{'TP': 3914, 'TN': 1659, 'FP': 1341, 'FN': 3086}"
      ]
     },
     "execution_count": 8,
     "metadata": {},
     "output_type": "execute_result"
    }
   ],
   "source": [
    "# Model 2 Expected Output: {'TP': 3914, 'TN': 1659, 'FP': 1341, 'FN': 3086}\n",
    "model2_confusion_matrix = conf_matrix(labels, model2_preds)\n",
    "model2_confusion_matrix"
   ]
  },
  {
   "cell_type": "code",
   "execution_count": 9,
   "metadata": {},
   "outputs": [
    {
     "data": {
      "text/plain": [
       "{'TP': 5505, 'TN': 2319, 'FP': 681, 'FN': 1495}"
      ]
     },
     "execution_count": 9,
     "metadata": {},
     "output_type": "execute_result"
    }
   ],
   "source": [
    "# Model 3 Expected Output: {'TP': 5505, 'TN': 2319, 'FP': 681, 'FN': 1495}\n",
    "model3_confusion_matrix = conf_matrix(labels, model3_preds)\n",
    "model3_confusion_matrix"
   ]
  },
  {
   "cell_type": "markdown",
   "metadata": {},
   "source": [
    "## Checking Our Work with sklearn\n",
    "\n",
    "To check our work, let's make use the the `confusion_matrix()` function found in `sklearn.metrics` to create some confusion matrices and make sure that sklearn's results match up with our own.\n",
    "\n",
    "In the cells below, import the `confusion_matrix()` function, use it to create a confusion matrix for each of our models, and then compare the results with the confusion matrices we created above. "
   ]
  },
  {
   "cell_type": "code",
   "execution_count": 11,
   "metadata": {},
   "outputs": [
    {
     "data": {
      "text/plain": [
       "array([[2654,  346],\n",
       "       [ 832, 6168]])"
      ]
     },
     "execution_count": 11,
     "metadata": {},
     "output_type": "execute_result"
    }
   ],
   "source": [
    "# from sklearn.metrics import confusion_matrix\n",
    "\n",
    "model1_sk_cm = confusion_matrix(labels, model1_preds)\n",
    "model1_sk_cm"
   ]
  },
  {
   "cell_type": "code",
   "execution_count": 13,
   "metadata": {},
   "outputs": [
    {
     "data": {
      "text/plain": [
       "array([[1659, 1341],\n",
       "       [3086, 3914]])"
      ]
     },
     "execution_count": 13,
     "metadata": {},
     "output_type": "execute_result"
    }
   ],
   "source": [
    "model2_sk_cm = confusion_matrix(labels, model2_preds)\n",
    "model2_sk_cm"
   ]
  },
  {
   "cell_type": "code",
   "execution_count": 15,
   "metadata": {},
   "outputs": [
    {
     "data": {
      "text/plain": [
       "array([[2319,  681],\n",
       "       [1495, 5505]])"
      ]
     },
     "execution_count": 15,
     "metadata": {},
     "output_type": "execute_result"
    }
   ],
   "source": [
    "model3_sk_cm = confusion_matrix(labels, model3_preds)\n",
    "model3_sk_cm"
   ]
  },
  {
   "cell_type": "markdown",
   "metadata": {},
   "source": [
    "## (Optional) Visualizing Confusion Matrices\n",
    "\n",
    "In the cells below, use the visualization function shown in the **_Confusion Matrices_** lesson to visualize each of the confusion matrices created above. "
   ]
  },
  {
   "cell_type": "code",
   "execution_count": 17,
   "metadata": {},
   "outputs": [],
   "source": [
    "import numpy as np\n",
    "import itertools\n",
    "import matplotlib.pyplot as plt\n",
    "% matplotlib inline\n",
    "\n",
    "def show_cf(y_true, y_pred, class_names=None, model_name=None):\n",
    "    cf = confusion_matrix(y_true, y_pred)\n",
    "    plt.imshow(cf, cmap=plt.cm.Blues)\n",
    "    \n",
    "    if model_name:\n",
    "        plt.title(\"Confusion Matrix: {}\".format(model_name))\n",
    "    else:\n",
    "        plt.title(\"Confusion Matrix\")\n",
    "    plt.ylabel('True Label')\n",
    "    plt.xlabel('Predicted Label')\n",
    "    \n",
    "    class_names = set(y_true)\n",
    "    tick_marks = np.arange(len(class_names))\n",
    "    if class_names:\n",
    "        plt.xticks(tick_marks, class_names)\n",
    "        plt.yticks(tick_marks, class_names)\n",
    "    \n",
    "    thresh = cf.max() / 2.\n",
    "    \n",
    "    for i, j in itertools.product(range(cf.shape[0]), range(cf.shape[1])):\n",
    "        plt.text(j, i, cf[i, j], horizontalalignment='center', color='white' if cf[i, j] > thresh else 'black')\n",
    "\n",
    "    plt.colorbar()\n"
   ]
  },
  {
   "cell_type": "code",
   "execution_count": 18,
   "metadata": {},
   "outputs": [
    {
     "data": {
      "image/png": "[encoded data removed]",
      "text/plain": [
       "<Figure size 432x288 with 2 Axes>"
      ]
     },
     "metadata": {
      "needs_background": "light"
     },
     "output_type": "display_data"
    }
   ],
   "source": [
    "show_cf(labels, model1_preds)"
   ]
  },
  {
   "cell_type": "code",
   "execution_count": 19,
   "metadata": {},
   "outputs": [
    {
     "data": {
      "image/png": "[encoded data removed]",
      "text/plain": [
       "<Figure size 432x288 with 2 Axes>"
      ]
     },
     "metadata": {
      "needs_background": "light"
     },
     "output_type": "display_data"
    }
   ],
   "source": [
    "show_cf(labels, model2_preds)"
   ]
  },
  {
   "cell_type": "code",
   "execution_count": 20,
   "metadata": {},
   "outputs": [
    {
     "data": {
      "image/png": "[encoded data removed]",
      "text/plain": [
       "<Figure size 432x288 with 2 Axes>"
      ]
     },
     "metadata": {
      "needs_background": "light"
     },
     "output_type": "display_data"
    }
   ],
   "source": [
    "show_cf(labels, model3_preds)"
   ]
  },
  {
   "cell_type": "markdown",
   "metadata": {},
   "source": [
    "## Calculating Evaluation Metrics\n",
    "\n",
    "Now, we'll use our newly created confusion matrices to calculate some evaluation metrics. \n",
    "\n",
    "As a reminder, here are the equations for each evaluation metric we'll be calculating in this lab:\n",
    "\n",
    "### Precision\n",
    "\n",
    "$$Precision = \\frac{\\text{Number of True Positives}}{\\text{Number of Predicted Positives}}$$\n",
    "\n",
    "### Recall\n",
    "\n",
    "$$Recall = \\frac{\\text{Number of True Positives}}{\\text{Number of Actual Total Positives}}$$\n",
    "\n",
    "### Accuracy\n",
    "\n",
    "$$Accuracy = \\frac{\\text{Number of True Positives + True Negatives}}{\\text{Total Observations}}$$\n",
    "\n",
    "### F1-Score\n",
    "\n",
    "$$F1-Score = 2\\ \\frac{Precision\\ x\\ Recall}{Precision + Recall}$$\n",
    "\n",
    "In each of the cells below, complete the function to calculate the appropriate evaluation metrics. Use the output to fill in the following table: \n",
    "\n",
    "|  Model  | Precision | Recall | Accuracy | F1-Score |\n",
    "|:-------:|:---------:|:------:|:--------:|:--------:|\n",
    "| Model 1 |     0.94688363524716      |    0.8811428571428571    |     0.8822     |     0.9128311380790292     |\n",
    "| Model 2 |     0.744814462416746      |    0.5591428571428572    |     0.5573     |    0.6387596899224806      |\n",
    "| Model 3 |    0.8899127061105723      |   0.7864285714285715     |    0.7824      |     0.8349764902168968     |\n",
    "\n",
    "**_QUESTION:_** Which model performed the best? How do arrive at your answer?"
   ]
  },
  {
   "cell_type": "code",
   "execution_count": 21,
   "metadata": {},
   "outputs": [
    {
     "name": "stdout",
     "output_type": "stream",
     "text": [
      "0.94688363524716\n",
      "0.744814462416746\n",
      "0.8899127061105723\n"
     ]
    }
   ],
   "source": [
    "def precision(confusion_matrix):\n",
    "    return (confusion_matrix['TP'])/(confusion_matrix['TP']+confusion_matrix['FP'])\n",
    "print(precision(model1_confusion_matrix)) # Expected Output: 0.94688363524716\n",
    "print(precision(model2_confusion_matrix)) # Expected Output: 0.744814462416746\n",
    "print(precision(model3_confusion_matrix)) # Expected Output: 0.8899127061105723"
   ]
  },
  {
   "cell_type": "code",
   "execution_count": 22,
   "metadata": {},
   "outputs": [
    {
     "name": "stdout",
     "output_type": "stream",
     "text": [
      "0.8811428571428571\n",
      "0.5591428571428572\n",
      "0.7864285714285715\n"
     ]
    }
   ],
   "source": [
    "def recall(confusion_matrix):\n",
    "    return (confusion_matrix['TP'])/(confusion_matrix['TP']+confusion_matrix['FN'])\n",
    "\n",
    "print(recall(model1_confusion_matrix)) # Expected Output: 0.8811428571428571\n",
    "print(recall(model2_confusion_matrix)) # Expected Output: 0.5591428571428572\n",
    "print(recall(model3_confusion_matrix)) # Expected Output: 0.7864285714285715"
   ]
  },
  {
   "cell_type": "code",
   "execution_count": null,
   "metadata": {},
   "outputs": [],
   "source": [
    "def accuracy(confusion_matrix):\n",
    "    return (confusion_matrix['TP']+confusion_matrix['TN'])/(confusion_matrix['TP']+confusion_matrix['FN'])\n",
    "\n",
    "print(accuracy(model1_confusion_matrix)) # Expected Output: 0.8822\n",
    "print(accuracy(model2_confusion_matrix)) # Expected Output: 0.5573\n",
    "print(accuracy(model3_confusion_matrix)) # Expected Output: 0.7824"
   ]
  },
  {
   "cell_type": "code",
   "execution_count": null,
   "metadata": {},
   "outputs": [],
   "source": [
    "def f1(confusion_matrix):\n",
    "    pass\n",
    "\n",
    "print(f1(model1_confusion_matrix)) # Expected Output: 0.9128311380790292\n",
    "print(f1(model2_confusion_matrix)) # Expected Output: 0.6387596899224806\n",
    "print(f1(model3_confusion_matrix)) # Expected Output: 0.8349764902168968"
   ]
  },
  {
   "cell_type": "markdown",
   "metadata": {},
   "source": [
    "Great Job! Let's check our work with sklearn. \n",
    "\n",
    "## Calculating Metrics with sklearn\n",
    "\n",
    "Each of the metrics we calculated above are also available inside the `sklearn.metrics` module.  \n",
    "\n",
    "In the cell below, import the following functions:\n",
    "\n",
    "* `precision_score`\n",
    "* `recall_score`\n",
    "* `accuracy_score`\n",
    "* `f1_score`\n",
    "\n",
    "Then, use the `labels` and the predictions from each model (not the confusion matrices) to double check the performance of our functions above. "
   ]
  },
  {
   "cell_type": "code",
   "execution_count": null,
   "metadata": {},
   "outputs": [],
   "source": [
    "# Import everything needed here first!\n",
    "\n",
    "\n",
    "preds = [model1_preds, model2_preds, model3_preds]\n",
    "\n",
    "for ind, i in enumerate(preds):\n",
    "    print('-'*40)\n",
    "    print('Model {} Metrics:'.format(ind + 1))\n",
    "    print('Precision: {}'.format(None))\n",
    "    print('Recall: {}'.format(None))\n",
    "    print('Accuracy: {}'.format(None))\n",
    "    print('F1-Score: {}'.format(None))"
   ]
  },
  {
   "cell_type": "markdown",
   "metadata": {},
   "source": [
    "## Classification Reports\n",
    "\n",
    "Remember that table that you filled out above? It's called a **_Classification Report_**, and it turns out that sklearn can even create one of those for you! This classification report even breaks down performance by individual class predictions for your model. \n",
    "\n",
    "In closing, let's create some and interpret some classification reports using sklearn. Like everything else we've used this lab, you can find the `classification_report()` function inside the `sklearn.metrics` module.  This function takes in two required arguments: labels, and predictions. \n",
    "\n",
    "Complete the code in the cell below to create classification reports for each of our models. "
   ]
  },
  {
   "cell_type": "code",
   "execution_count": null,
   "metadata": {},
   "outputs": [],
   "source": [
    "# Import classification_report below!\n",
    "\n",
    "for ind, i in enumerate(preds):\n",
    "    print('-'*40)\n",
    "    print(\"Model {} Classification Report:\".format(ind + 1))\n",
    "    print(None)"
   ]
  },
  {
   "cell_type": "markdown",
   "metadata": {},
   "source": [
    "## Summary\n",
    "\n",
    "In this lab, we manually calculated various evaluation metrics to help us evaluate classifier performance, and we also made use of preexisting tools inside of sklearn for the same purpose. "
   ]
  }
 ],
 "metadata": {
  "kernelspec": {
   "display_name": "Python 3",
   "language": "python",
   "name": "python3"
  },
  "language_info": {
   "codemirror_mode": {
    "name": "ipython",
    "version": 3
   },
   "file_extension": ".py",
   "mimetype": "text/x-python",
   "name": "python",
   "nbconvert_exporter": "python",
   "pygments_lexer": "ipython3",
   "version": "3.6.6"
  }
 },
 "nbformat": 4,
 "nbformat_minor": 2
}
